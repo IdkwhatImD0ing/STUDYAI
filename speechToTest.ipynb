{
 "cells": [
  {
   "cell_type": "code",
   "execution_count": 3,
   "metadata": {},
   "outputs": [],
   "source": [
    "from whispercpp import Whisper\n",
    "import numpy as np\n",
    "from scipy.io import wavfile\n",
    "import io\n",
    "import base64\n",
    "\n",
    "class Transcriber:\n",
    "    def __init__(self, model_name):\n",
    "        self.whisper = Whisper.from_pretrained(model_name)\n",
    "\n",
    "    def transcribe_from_file(self, audio_file):\n",
    "        text = self.whisper.transcribe_from_file(audio_file)\n",
    "        return text\n",
    "\n",
    "    def transcribe(self, audio_array):\n",
    "        text = self.whisper.transcribe(audio_array)\n",
    "        return text\n",
    "    \n",
    "    def encode_audio(self, audio_file):\n",
    "        with open(audio_file, 'rb') as audio_file:\n",
    "            encoded_audio = base64.b64encode(audio_file.read())\n",
    "        return encoded_audio\n",
    "\n",
    "    def decode_audio_to_np_array(self, encoded_audio):\n",
    "        decoded_audio = base64.b64decode(encoded_audio)\n",
    "        sr, audio = wavfile.read(io.BytesIO(decoded_audio))\n",
    "        audio = audio.astype(np.float32)\n",
    "        return audio"
   ]
  },
  {
   "cell_type": "code",
   "execution_count": 4,
   "metadata": {},
   "outputs": [
    {
     "name": "stderr",
     "output_type": "stream",
     "text": [
      "whisper_init_from_file_no_state: loading model from '/root/.local/share/whispercpp/ggml-tiny.en.bin'\n",
      "whisper_model_load: loading model\n",
      "whisper_model_load: n_vocab       = 51864\n",
      "whisper_model_load: n_audio_ctx   = 1500\n",
      "whisper_model_load: n_audio_state = 384\n",
      "whisper_model_load: n_audio_head  = 6\n",
      "whisper_model_load: n_audio_layer = 4\n",
      "whisper_model_load: n_text_ctx    = 448\n",
      "whisper_model_load: n_text_state  = 384\n",
      "whisper_model_load: n_text_head   = 6\n",
      "whisper_model_load: n_text_layer  = 4\n",
      "whisper_model_load: n_mels        = 80\n",
      "whisper_model_load: f16           = 1\n",
      "whisper_model_load: type          = 1\n",
      "whisper_model_load: mem required  =  129.00 MB (+    3.00 MB per decoder)\n",
      "whisper_model_load: adding 1607 extra tokens\n",
      "whisper_model_load: model ctx     =   73.58 MB\n",
      "whisper_model_load: model size    =   73.54 MB\n",
      "whisper_init_state: kv self size  =    2.62 MB\n",
      "whisper_init_state: kv cross size =    8.79 MB\n"
     ]
    },
    {
     "name": "stdout",
     "output_type": "stream",
     "text": [
      "Time taken:  15.496797561645508\n",
      " Good morning. This Tuesday is Election Day. After months of spirited debate in vigorous campaigning, the time has come for Americans to make important decisions about our nation's future and encourage all Americans to go to the polls and vote. Election season brings out the spirit of competition between our political parties. And that competition is an essential part of a healthy democracy. But as the campaigns come to a close, Republicans, Democrats and independents can find common ground on at least one point. Our system of representative democracy is one of America's greatest strengths. The United States was founded on the belief that all men are created equal. Every election day, millions of Americans of all races, religions and backgrounds step into voting booths throughout the nation, whether they are richer, poor, older, young. Each of them has an equal share in choosing the path that our country will take. And every ballot they cast is a reminder that our founding principles are alive and well. Voting is one of the great privileges of American citizenship. And it is always required brave defenders. As you head to the polls next week, remember the sacrifices that had been made by generations of Americans in uniform to preserve our way of life. From Bacher Hill to Baghdad, the men and women of American armed forces have been devoted guardians of our democracy. All of us owe them and their families a special debt of gratitude on the election day. Americans should also remember the important example that our elections set throughout the world. Young democracies from Georgia and Ukraine to Afghanistan and Iraq can look to the United States for proof that self-government can endure and nations that still live under tyranny and oppression can find hope and inspiration in our commitment to liberty. For more than two centuries, Americans have demonstrated the ability of free people to choose their own leaders. Our nation has flourished because of its commitment to trusting the wisdom of our citizenry. In this year's election, we will see this tradition continue. And we will be reminded once again that we are blessed to live in a free nation guided by the will of the people. Thank you for listening.\n"
     ]
    }
   ],
   "source": [
    "import time\n",
    "\n",
    "start = time.time()\n",
    "transcriber = Transcriber(\"tiny.en\")\n",
    "wav_file = \"gb0.wav\"\n",
    "\n",
    "# Convert wav file to base64\n",
    "encoded_audio = transcriber.encode_audio(wav_file)\n",
    "\n",
    "# Convert base64 to numpy array\n",
    "audio_np_array = transcriber.decode_audio_to_np_array(encoded_audio)\n",
    "# Normalize between -1 and 1\n",
    "audio_np_array = audio_np_array / np.max(np.abs(audio_np_array))\n",
    "text = transcriber.transcribe(audio_np_array)  # needs 16k 16bit mono wav\n",
    "end = time.time()\n",
    "\n",
    "print(\"Time taken: \", end - start)    \n",
    "\n",
    "# text = transcriber.transcribe_from_file(wav_file)  # needs 16k 16bit mono wav\n",
    "print(text)\n",
    "# Save text to file\n",
    "with open(\"hp0.txt\", \"w\") as text_file:\n",
    "    text_file.write(text)\n"
   ]
  }
 ],
 "metadata": {
  "kernelspec": {
   "display_name": "study",
   "language": "python",
   "name": "python3"
  },
  "language_info": {
   "codemirror_mode": {
    "name": "ipython",
    "version": 3
   },
   "file_extension": ".py",
   "mimetype": "text/x-python",
   "name": "python",
   "nbconvert_exporter": "python",
   "pygments_lexer": "ipython3",
   "version": "3.11.4"
  }
 },
 "nbformat": 4,
 "nbformat_minor": 2
}
