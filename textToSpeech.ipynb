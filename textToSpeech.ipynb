{
 "cells": [
  {
   "cell_type": "code",
   "execution_count": 7,
   "metadata": {},
   "outputs": [],
   "source": [
    "import dotenv\n",
    "import os\n",
    "\n",
    "dotenv.load_dotenv()\n",
    "import openai\n",
    "from elevenlabs import set_api_key, stream, generate, Voice, VoiceSettings\n",
    "set_api_key(os.getenv(\"ELEVENLABS_API_KEY\"))\n",
    "openai.api_key = os.getenv(\"OPENAI_API_KEY\")"
   ]
  },
  {
   "cell_type": "code",
   "execution_count": 5,
   "metadata": {},
   "outputs": [],
   "source": [
    "def openai_stream():\n",
    "    completion = openai.ChatCompletion.create(\n",
    "        model=\"gpt-3.5-turbo\",\n",
    "        messages=[\n",
    "            {\"role\": \"system\", \"content\": \"You are a helpful assistant.\"},\n",
    "            {\"role\": \"user\", \"content\": \"Can you explain Quantum Physics to me in an easy way to understand?\"}\n",
    "        ],\n",
    "        stream=True\n",
    "    )\n",
    "    for chunk in completion:\n",
    "        content = chunk.choices[0].delta.get('content', '')\n",
    "        print(content, end = '')\n",
    "        yield content"
   ]
  },
  {
   "cell_type": "code",
   "execution_count": 9,
   "metadata": {},
   "outputs": [],
   "source": [
    "voice = Voice(\n",
    "    voice_id=\"EXAVITQu4vr4xnSDxMaL\",\n",
    "    name=\"Bella\",\n",
    "    settings=VoiceSettings(\n",
    "        stability=0.72, similarity_boost=0.2, style=0.0, use_speaker_boost=False, speaking_rate=2\n",
    "    ),\n",
    ")"
   ]
  },
  {
   "cell_type": "code",
   "execution_count": 10,
   "metadata": {},
   "outputs": [
    {
     "name": "stdout",
     "output_type": "stream",
     "text": [
      "Sure! Quantum physics is a branch of science that describes the behavior of tiny particles, such as atoms and subatomic particles like electrons. It is quite different from classical physics, which describes the behavior of objects on a larger scale.\n",
      "\n",
      "At the heart of quantum physics is the idea that particles can exist in multiple states or locations at the same time. This is called superposition. For example, an electron can be in multiple places around an atom simultaneously, rather than being at a specific location like a tiny ball.\n",
      "\n",
      "Another important concept in quantum physics is the uncertainty principle. It states that it is impossible to know both the position and velocity of a particle with complete precision. The more accurately you try to measure one of these properties, the less accurately you can know the other.\n",
      "\n",
      "Quantum physics also introduces the idea of particles being connected to each other, even when they are far apart. This connection is called entanglement. When particles are entangled, their properties become linked, so that observing one particle instantly affects the other, no matter how far apart they are.\n",
      "\n",
      "These strange and counterintuitive ideas of quantum physics have been experimentally confirmed and have led to technological advancements like laser technology, transistors (fundamental to computers), and more secure communication tools.\n",
      "\n",
      "While quantum physics can be quite complex, these are some of the basic ideas that give you a glimpse into this fascinating field of science!"
     ]
    },
    {
     "ename": "KeyboardInterrupt",
     "evalue": "",
     "output_type": "error",
     "traceback": [
      "\u001b[0;31m---------------------------------------------------------------------------\u001b[0m",
      "\u001b[0;31mKeyboardInterrupt\u001b[0m                         Traceback (most recent call last)",
      "\u001b[1;32m/mnt/d/Github/STUDYAI/textToSpeech.ipynb Cell 4\u001b[0m line \u001b[0;36m1\n\u001b[0;32m----> <a href='vscode-notebook-cell://wsl%2Bubuntu-20.04/mnt/d/Github/STUDYAI/textToSpeech.ipynb#W2sdnNjb2RlLXJlbW90ZQ%3D%3D?line=0'>1</a>\u001b[0m stream(\n\u001b[1;32m      <a href='vscode-notebook-cell://wsl%2Bubuntu-20.04/mnt/d/Github/STUDYAI/textToSpeech.ipynb#W2sdnNjb2RlLXJlbW90ZQ%3D%3D?line=1'>2</a>\u001b[0m     generate(\n\u001b[1;32m      <a href='vscode-notebook-cell://wsl%2Bubuntu-20.04/mnt/d/Github/STUDYAI/textToSpeech.ipynb#W2sdnNjb2RlLXJlbW90ZQ%3D%3D?line=2'>3</a>\u001b[0m         text \u001b[39m=\u001b[39;49m openai_stream(),\n\u001b[1;32m      <a href='vscode-notebook-cell://wsl%2Bubuntu-20.04/mnt/d/Github/STUDYAI/textToSpeech.ipynb#W2sdnNjb2RlLXJlbW90ZQ%3D%3D?line=3'>4</a>\u001b[0m         voice \u001b[39m=\u001b[39;49m voice,\n\u001b[1;32m      <a href='vscode-notebook-cell://wsl%2Bubuntu-20.04/mnt/d/Github/STUDYAI/textToSpeech.ipynb#W2sdnNjb2RlLXJlbW90ZQ%3D%3D?line=4'>5</a>\u001b[0m         model \u001b[39m=\u001b[39;49m \u001b[39m\"\u001b[39;49m\u001b[39meleven_monolingual_v1\u001b[39;49m\u001b[39m\"\u001b[39;49m,\n\u001b[1;32m      <a href='vscode-notebook-cell://wsl%2Bubuntu-20.04/mnt/d/Github/STUDYAI/textToSpeech.ipynb#W2sdnNjb2RlLXJlbW90ZQ%3D%3D?line=5'>6</a>\u001b[0m         stream \u001b[39m=\u001b[39;49m \u001b[39mTrue\u001b[39;49;00m\n\u001b[1;32m      <a href='vscode-notebook-cell://wsl%2Bubuntu-20.04/mnt/d/Github/STUDYAI/textToSpeech.ipynb#W2sdnNjb2RlLXJlbW90ZQ%3D%3D?line=6'>7</a>\u001b[0m     )\n\u001b[1;32m      <a href='vscode-notebook-cell://wsl%2Bubuntu-20.04/mnt/d/Github/STUDYAI/textToSpeech.ipynb#W2sdnNjb2RlLXJlbW90ZQ%3D%3D?line=7'>8</a>\u001b[0m )\n",
      "File \u001b[0;32m~/miniconda3/envs/study/lib/python3.11/site-packages/elevenlabs/utils.py:76\u001b[0m, in \u001b[0;36mstream\u001b[0;34m(audio_stream)\u001b[0m\n\u001b[1;32m     74\u001b[0m \u001b[39mfor\u001b[39;00m chunk \u001b[39min\u001b[39;00m audio_stream:\n\u001b[1;32m     75\u001b[0m     \u001b[39mif\u001b[39;00m chunk \u001b[39mis\u001b[39;00m \u001b[39mnot\u001b[39;00m \u001b[39mNone\u001b[39;00m:\n\u001b[0;32m---> 76\u001b[0m         mpv_process\u001b[39m.\u001b[39mstdin\u001b[39m.\u001b[39mwrite(chunk)  \u001b[39m# type: ignore\u001b[39;00m\n\u001b[1;32m     77\u001b[0m         mpv_process\u001b[39m.\u001b[39mstdin\u001b[39m.\u001b[39mflush()  \u001b[39m# type: ignore\u001b[39;00m\n\u001b[1;32m     78\u001b[0m         audio \u001b[39m+\u001b[39m\u001b[39m=\u001b[39m chunk\n",
      "\u001b[0;31mKeyboardInterrupt\u001b[0m: "
     ]
    }
   ],
   "source": [
    "stream(\n",
    "    generate(\n",
    "        text = openai_stream(),\n",
    "        voice = voice,\n",
    "        model = \"eleven_monolingual_v1\",\n",
    "        stream = True\n",
    "    )\n",
    ")"
   ]
  }
 ],
 "metadata": {
  "kernelspec": {
   "display_name": "study",
   "language": "python",
   "name": "python3"
  },
  "language_info": {
   "codemirror_mode": {
    "name": "ipython",
    "version": 3
   },
   "file_extension": ".py",
   "mimetype": "text/x-python",
   "name": "python",
   "nbconvert_exporter": "python",
   "pygments_lexer": "ipython3",
   "version": "3.11.4"
  }
 },
 "nbformat": 4,
 "nbformat_minor": 2
}
