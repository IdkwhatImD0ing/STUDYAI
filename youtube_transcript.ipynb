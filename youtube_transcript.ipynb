{
 "cells": [
  {
   "cell_type": "code",
   "execution_count": 1,
   "metadata": {},
   "outputs": [
    {
     "data": {
      "text/plain": [
       "True"
      ]
     },
     "execution_count": 1,
     "metadata": {},
     "output_type": "execute_result"
    }
   ],
   "source": [
    "from youtube_transcript_api import YouTubeTranscriptApi\n",
    "import re\n",
    "import pandas as pd\n",
    "import requests\n",
    "from dotenv import load_dotenv\n",
    "import os\n",
    "\n",
    "\n",
    "# load env variables\n",
    "load_dotenv()"
   ]
  },
  {
   "cell_type": "code",
   "execution_count": 2,
   "metadata": {},
   "outputs": [],
   "source": [
    "# get video id from url. the following is the video id for the video at https://www.youtube.com/watch?v=psU4YbCf0bE\n",
    "video_id = \"psU4YbCf0bE\""
   ]
  },
  {
   "cell_type": "code",
   "execution_count": 3,
   "metadata": {},
   "outputs": [
    {
     "data": {
      "text/plain": [
       "'- [Narrator] Countries around the world have pumped millions and even billions of dollars into huge construction projects that make our lives better. But some megaprojects should have been thrown in the garbage at the planning stage. So grab a hard hat and a hi-vis jacket. We\\'ve got megaprojects, mega-prospects, and something a little unstable to look at. Ouch! All right, it\\'s time to check out the most useless megaprojects in the world. (upbeat music) Road to Nowhere. Hawaii is a beautiful place. It\\'s got beaches, grass skirts, coconut bras, oh, and this super expensive blight on the landscape, the H-3 Interstate. Now I know what you\\'re thinking. Interstate, Hawaii? Well, that\\'s one big highway. Well, here\\'s the thing, it doesn\\'t connect to any other state. The name just means it\\'s been funded by the federal government. So rather than spanning 2,500 miles to the nearest state, California it spans just 15 from northwest of downtown Honolulu to the Marine Corps Base Hawaii. Oh, even so it still cost a colossal $1.3 billion to build or $80 million a mile, geez. Well, back in 1960 when the road was first authorized, people weren\\'t happy. Not only was it set to level a vast number of trees but there were also sacred temples and funerary mounds in the area that were super significant to native Hawaiians. And because of this, people protested, hard. But constructors eventually got legal authorization anyway and in 1989, they started building. Seven contractors and eight years later, it finally opened in 1997. So despite H-3 taking 37 years and blowing the budget by a shocking amount, are Hawaiians happy? Not at all. Construction destroyed many of the sacred sites throughout the valley. Now lots of people won\\'t drive anywhere near the road for fear of being cursed by the dead so it\\'s hardly even used. Now, if you were thinking of taking a smooth cruise through the Hawaiian countryside then best be checking your back seat before you set off. (narrator screaming) That\\'s a real highway to hell. (screen whooshing) Dam Bursters. Man, all this talking can be thirsty work. Sometimes I wish I had a giant reservoir to serve all my hydration needs. Well, the city of Los Angeles faced the same problem in the 1900s though it wasn\\'t because they all talked too much. They needed a reliable water reserve for the growing needs of the city. So they hired self-taught civil engineer, William Mulholland to set about designing and building the largest arch-supported dam in the world. Construction started in 1924 and was finished suspiciously quickly in 1926. Located in San Francisco Canyon about 40 miles outside of downtown LA, the completed St. Francis Dam was over 700 feet long and 185 feet tall, big enough to hold more than 12 billion gallons of water. That\\'s over 18,000 Olympic swimming pools. However, as it began to fill the cracks in self-taught Mulholland\\'s experience started showing, very literally. Several leaks began appearing, which the engineer dismissed as totally normal. But in reality, the foundations of the dam were woefully unsuitable for supporting such a huge weight of water. On March 12th, 1928 only five days after the reservoir reached max capacity, the giant concrete wall collapsed sending all 12 billion gallons of water hurtling towards the Pacific Ocean. After just five minutes the 120 foot wave had violently careened one and a half miles from the collapsed wall destroying everything in its path. It went down as one of the worst engineering catastrophes in US history, destroying 1,000 homes and leaving at least 431 people sleeping with the fishes. Although he was relieved of any wrongdoing, Mulholland never worked again. All I can say is dam. (screen whooshing) Ceased City. (narrator yawning) Man, I didn\\'t sleep too good last night. My neighbor was jumping up and down on their bed for hours. If only I lived somewhere quiet, alone and all by myself. Actually, I think I know just the place. Xiangyun International Project is a 1,800 acre development in Shijiazhuang, China, and it\\'s completely empty. Over the course of several years developers splashed a monstrous $3 billion on creating a new high-end residential super community. But when the construction company\\'s CEO was arrested in 2014 for bribing state officials, the company fell into crisis and incurred billions of dollars in debt. They were forced to declare bankruptcy and Xiangyun was seized by the government leaving thousands who\\'d already bought properties there seriously out of pocket. Now, the huge city is eerily empty, like a ghost town. And though European styled building and statues might look great from the outside, the inside tells a different story. I mean, just look at this mall. One company has expressed interest in taking the failed city over, but it\\'s gonna take some really big bucks to save this place. It\\'s a shame. If it had worked out it\\'d be a pretty awesome place to live. I know an even more awesome place, though, my YouTube channel. Hit those like and subscribe buttons and you\\'ll never miss one of my incredible videos again. All right, let\\'s get back to it. (screen whooshing) Delta Skelter. I hate sitting in traffic. Someone needs to hurry up and invent a teleporter so I never get stuck during rush hour again. Well, China might have made the next best thing, the keyword being might have. The HZMB bridge system has reduced the transportation time between three of the world\\'s most populous cities, Hong Kong, Zhuhai, and Macau, from four hours to just 30 minutes. It\\'s the longest sea crossing in the world at over 34 miles long, meaning it could stretch the entire width of Los Angeles and still have bridge to spare, wowsers. So what\\'s the catch? Well, considering the whole thing cost a gargantuan $18.8 billion, you\\'d imagine it\\'d be put to good use but hardly anyone actually drives down it. You need a crossing permit and it\\'s almost impossible to obtain one. Hmm. Weird. Only high tech investors, top academics, politicians or philanthropists are even considered for the permits and your vehicle must be registered in all three cities. Even then, the daily limit for applicants is only 400. That\\'s hella stingy! It seems like they\\'re doing everything they can to stop people crossing. Some people reckon that because of Hong Kong\\'s overcrowding problem they\\'re trying to limit traffic flow into the city. But if that\\'s the case, why spend nine years and almost $19 billion building this thing just to stop people from using it? Something seems suspicious to me. What do you think? Let me know down in the comments below. (screen whooshing) Quit horsin\\' around. Ever dreamed of having a giant statue built of you when you die? Mr. Bartholomew Egbert Amazed, maker of YouTube\\'s finest videos. Yeah, I like the sound of that. Well, one statue in Custer County, South Dakota takes this concept to the extreme. Back in 1877, native American war hero, Crazy Horse led the Lakota people into battle to protect native territory from the federal government, but was fatally wounded. 62 years later in 1939, Lakota chief, Henry Standing Bear commissioned Polish American sculptor, Korczak Ziolkowski who\\'d previously worked on nearby Mount Rushmore to carve the hero\\'s likeness into Thunderhead Mountain. With those credentials, what could go wrong, right? Well, Korczak\\'s original plans were for the statue to be 641 feet long and 563 feet tall overtaking the entire mountain and looking a lot like this. Jump to present day and here\\'s what we actually got. The face is the only part that\\'s been finished and that wasn\\'t completed until 1998, 50 years after Korczak started, and there\\'s been practically no progress since. Though Korczak himself worked tirelessly to try to complete it, after his passing his family took the baton and they were less than enthusiastic. Despite raking in millions of dollars in donations and tourist fees from the incomplete monument, they\\'ve added very little to it. Even worse, Thunderhead Mountain was a sacred burial ground. Destroying the land Crazy Horse died protecting goes against everything he stood for. The Lakota people seem to have been left behind for an egotistical money-making project by the Ziolkowskis, and that\\'s really messed up. But let me know what you think down in the comments below. (screen whooshing) Silent Stadium. With 3.5 billion supporters around the world it\\'s safe to say soccer is the most popular sport on earth. So in 2014, when Brazil hosted the prestigious World Cup they set about building a bunch of new stadiums to impress all the global spectators. But one stadium left fans scratching their heads. In the city of Manaus in the Amazon Rainforest, the aptly named Arena De Amazonia might be the worst location for a giant soccer stadium ever. See, there\\'s no roads from Manaus to the coast and that was where the building supplies were delivered. So all the materials had to be shipped up the Amazon River, which was a super expensive journey. Then during construction the blazing hot rainforest temperatures proved too much for the grass on the pitch, which turned brown and died. At this, event organizers took to painting it green. Not exactly what you\\'d expect from a $300 million stadium but its post World Cup life has proven even more miserable. See, the most successful team in Manaus, Nacional are all the way down in the fifth tier of Brazilian soccer. So whilst they have taken the stadium as their own audience attendance rarely hits over 3,000, a tiny fraction of the 44,300 total capacity. They literally have no fans. - You\\'ve got no friends! - [Narrator] Aside from the occasional Christian concert held there the place remains pretty empty. And sadly, I think even the big man upstairs would say, it\\'s a complete waste. (screen whooshing) Mechs You Wonder. The robotics race has really ramped up in recent years. We\\'ve had the good, the bad, and the downright weird. But this Giant Gundam suit in Yokohama, Japan, might be one of the most ridiculous of them all. Based on the RX-78-2 mech suit from the popular \"Gundam anime\" series, this to-scale model is a tremendous 59 feet tall. Now, I\\'m not saying getting a 25-ton robot the size of three giraffes to move is an easy feat. However, I wouldn\\'t rely on this Gundam to protect Earth from any alien invasions like the ones from the show. Aside from taking a few short steps forward and bending down on one knee like a sluggish grandma it doesn\\'t really do a lot. It\\'s just a big shiny tourist attraction. So if you\\'re not that into Gundam it does seem pretty pointless. Whilst the official price hasn\\'t been revealed a similar size statue in Tokyo cost around $100,000 but that can only move its head, whereas the Yokohama Gundam can move its entire body and that means a much bigger price tag. I don\\'t know, it\\'s not really doing it for me, but hey, the fans seem happy so who am I to judge? (screen whooshing) You\\'re Gonna Pay. Whether you love or hate ex-president Donald Trump, there\\'s no denying that one particular policy from back in his initial 2016 election didn\\'t exactly turn out as he\\'d promised. You know, reinforcing the border wall between the US and Mexico. The new wall was supposed to be made of 1,000 miles of big, beautiful concrete, and Mexico was going to cover the whopping 8 to $12 billion invoice. Well, it\\'s not exactly gone to plan. So far the border wall is only 450 miles long, less than half of what was promised, and only 47 miles of that is actually new. The rest of it is just the previous wall bolstered with steel bollard\\'s, which as you can see isn\\'t that great at keeping people out. Man, he didn\\'t even break a sweat. But if you\\'re not the best climber, hey, don\\'t worry. There\\'s some nice low parts that you can just hop right over. Off she goes into the land of the free. Some of the new parts were made so badly you just need to wait until they fall over, jheez. So far this ludicrous project has cost an outrageous $15 billion. That\\'s almost 320 million per new mile built. Plus some estimates say the yearly maintenance costs could be up to $28 billion. And as for Mexico fronting the bill, well they haven\\'t coughed up a dime. It\\'s all been covered by the taxpayers. Man, sounds like the time my date ordered $150 steak then realized that she\\'d left her purse, so I had to pay. Ha ha. Oh, she\\'s so silly. (screen whooshing) Hour of Power. If I\\'m procrastinating, I do 15 minutes of work max before I get bored. But I\\'ve got nothing on the failures of Monju nuclear power station, in Japan\\'s Fukui Prefecture. Since getting the go ahead in 1983 it\\'s only produced one measly hour of power, one hour in several decades. I take longer to wake up every morning. Monju is a prototype fast-breeder reactor. By jiggling the reaction process the creators had hoped the plant would recycle used nuclear fuel to create even more energy making production way more efficient, which sounds great on paper, except it turned out to be anything but efficient. Major faults were discovered in 14,000 individual components some controlling critical safety features of the station. Yikes! In 1995, a fire broke out which staff tried to hide by editing the security footage. Double yikes! And in 2010, a 3.3 ton refueling machine fell into the reactor vessel and got so busted up it wouldn\\'t fit back through the top. Man, what a comedy of errors. Yet somehow, the plant limped on. In 2011 though, nuclear disasters struck Fukushima when a tsunami hit the Fukushima nuclear power station and caused a radiation leak. After that public opinion turned firmly against nuclear power, especially Monju, which by that point had devoured almost $12 billion of government spending with nothing to show for it. Five years later in 2016 it was closed for good and authorized for deconstruction. But guess what? That\\'s going to take until 2047 and cost another $3.4 billion. So all in all this has been a shameful $15 billion 60 year demonstration of how not to make something. Oh, and if you were wondering where the name Monju came from it was named after the Buddhist Deity of Wisdom, the irony. (screen whooshing) Coastland Ghostland. Recently, I\\'ve been trying to live a little more sustainably. I recycle, donate stuff and I\\'ve stopped making petrol fires in my backyard. But some countries like Malaysia have struggled implementing environmental changes. Announced in 2006, Malaysia\\'s Forest City was meant to be an incredible role model of future cities consisting of four artificial islands off the coastal wetlands of Johor. Concept pictures showed beautiful towers draped with plants, carless roads, and smart technology apartments that could maintain your home with no intervention. But since the grand opening in 2016 things haven\\'t exactly taken off. By 2019, only 15,000 units had been sold, embarrassingly short of their target of 700,000. And as few as 500 people actually lived there. Awkward. See, the Chinese developers targeted the project almost exclusively towards upper middle class Chinese citizens as a place to store their wealth outside of China. But this collapsed when the Chinese government introduced a yearly spending cap of $50,000 on purchases made outside the country. Couple that with COVID and Malaysia having a political crisis and you\\'re left with a ghost town struggling for buyers. With the most basic studio apartment costing almost $100,000 and the average Malaysian salary being less than $11,000, there\\'s no chance of the locals affording it. Well, that\\'s not all. Despite being touted as an ecological marvel its construction has caused irreversible damage to the protected wetlands off the coast of Malaysia. Yikes! Now, you can\\'t put a price on the environment but you can put a price on this hunk of metal and that\\'s a ridiculous hundred billion dollars. Oh man, I feel woozy. The only residents are these tacky plastic animals everywhere. I\\'m not surprised no one wants to live here. It gives me the heebie-jeebies. (screen whooshing) Block Flop. Buying your first house is a stressful experience full of highs and lows. But if your first property was the Lotus Riverside Project in Shanghai, it had just have been one monumental low. On June 27th, 2009, one of the 11 13-story apartment blocks collapsed completely onto its side. Fortunately, no one was living there at the time, but sadly, one unlucky worker was inside collecting his tools when the building gave way. They\\'d been digging a pit to create an underground garage below the south side of the apartment block and piling all the excavated dirt on the north side. But the huge heavy mound of dirt shifted the structure of the soil putting loads of extra pressure on the concrete foundations and these were vital for supporting the building from below. Unable to tolerate this increase in pressure, they snapped and the whole building toppled over. Miraculously the 10 other blocks were undamaged but can you imagine a domino rally that could have happened? Well, 400 owners of the other apartments could, as they demanded their money back right away. As a result, the developers had to pay out almost $2 million in damages and got hit with almost 3 million for the cleanup. Phew, that might be the costliest pile of dirt I\\'ve ever heard. (screen whooshing) Costa Fortune. In the words of one of my favorite poets, \"I like big boats and I cannot lie.\" That was M.C. Harbor. What a guy, eh? Well, this boat here is absolutely giant, or was giant. This is the Costa Concordia, a 114,000 ton, 950 foot long mega cruiser capable of carrying over 4,000 people. This enormous ship went into service in 2006 and cost a whopping $570 million, but it hardly lasted six years. On the last leg of a cruise around the Mediterranean in 2012, it struck a rock near Tuscany, Italy and partially capsized. Captain Francesco Schettino had deviated from the planned course to perform a sail-by salute, where a ship is brought close to shore to salute those on land. Confident enough he could navigate the area by eye, Schettino had turned off the ship\\'s computer navigation system before performing the maneuver. Big mistake! Less than 1,000 feet from the shore he suddenly noticed dangerous waves breaking on the reef and ordered the ship to turn. By then, however, it was too late. The ship turned all right and crashed straight into an uncharted rock in the seabed. Despite the best efforts of the rescue team 34 people never made it back to shore. As well as the tragic losses it took over two years for the ship to be refloated and towed almost 200 miles to Genoa where it was torn apart and scrapped. The entire cost of the cleanup and scrapping plus the compensation payouts for the victims came to around $2 billion. You could buy nearly four new boats for that. Whoa, Costa Concordia? More like cost a flipping fortune! (screen whooshing) The Big Stink. For architect, Thomas Willson living in 1820s London was tough not because of the food or the weather, but because of all the bodies piling up with nowhere to bury them, ewww. See, from 1770, London had a massive industrial boom. So, many people relocated to the city for work but more people eventually means more bodies to bury and allocating enough graveyard space to accommodate all of them was overlooked. Until that is, Willson came up with a seriously metal solution to London\\'s corpse-y conundrum. - [Willson] A giant pyramid of death. - [Narrator] By building up, Willson theorized you could condense 1,000 acres of traditional graveyard space into just 18 acres, capable of storing 5 million bodies. He planned a sepulchre, sorry. - [Willson] A giant pyramid of death. - [Narrator] 90 stories tall. London\\'s tallest building, The Shard is 95 stories tall or just over a thousand feet so this pyramid would\\'ve been colossal. Each side would be covered in dark granite with stairs leading to an observatory at the top. Unfortunately, at $789 million in today\\'s money the crazy scheme proved too dear, plus Londoners were understandably against having a nightmarish pyramid of bodies towering over their city. So instead, the city privatized land specifically for traditional graveyards. Boring! Still, I get it. 5 million bodies ain\\'t gonna smell so great. The big smoke would\\'ve been more like the big stink. (screen whooshing) Capital Corruption. This year, I\\'m gonna travel more. I wanna eat good food, meet new people and see some cool cities. But one place I won\\'t be going is the capital city of Naypyitaw, Myanmar. Despite being eight times bigger than New York, Naypyitaw has less than one eighth of New York\\'s population. Woo. So where\\'d they all go? Well, they were never there. What? Naypyitaw only became the capitol in 2005 after Myanmar\\'s military government became paranoid that the previous capitol, Yangon was going to be attacked from the sea. And sure, Naypyitaw is more central but it\\'s also a far less desirable place to live. Even though it covers almost 3,000 square miles there\\'s only one high school, very few shops and almost no public transport. What\\'s more, most businesses are still located in the previous capital city. So unsurprisingly, people don\\'t want to relocate. As such, this 20 lane highway is almost always eerily empty like something outta \"Silent Hill.\" It\\'s pretty obvious who this city was really made for though. And there might be no public facilities but there is a 100 room presidential palace and a 31-building parliamentary complex. Hmm. The whole place cost a heartbreaking $4 billion too, about 5% of all the money Myanmar makes in a year. The public essentially funded something utterly useless to them so the corrupt government can hold onto their dictatorial power. So simply put, you won\\'t be catching me touristing in Naypyitaw. (screen whooshing) Challenging Times. It\\'s crazy to think that nowadays if you\\'ve got enough money you can literally fly off into space. But our journey to conquer the cosmos has had some major hitches along the way. Back in 1986, NASA\\'s Challenger shuttle took off for space. Just 73 seconds later though it broke apart and set completely aflame. Sadly, all seven crew members went down with it. The shuttle was intended to have a lifespan of 10 years. However, Challenger had only been in action for a measly three. So what the heck happened? Well, O-rings in the right-hand rocket booster malfunctioned. These are small rubber rings that create a tight seal to contain all the immense pressure that\\'s produced when burning rocket fuel. But freezing temperatures on launch day stiffened the rubber preventing the seal from forming properly. Because of this when the rocket took off flames burned through the booster wall and prized it away from the external fuel tank. This ruptured the tank, spilling highly flammable liquid hydrogen and liquid oxygen everywhere and setting the entire shuttle alight. To add insult to injury, engineers at NASA had flagged up flaws in the rocket boosters as early as 1977 as well as the dangers of launching in cold conditions. However, their concerns were ignored and the shuttle was allowed to fly, oof. Because of this, the space shuttle program was put on hold for the next three years, and rightfully so. In today\\'s money, Challenger\\'s building plus the money used in the wake of the disaster would cost a whopping $15 billion in total. Now, I\\'m sure plenty of lessons were learned from this terrible tragedy but holy Jupiter, that\\'s one expensive error. (upbeat music) Phew, we made it and I wouldn\\'t trust these guys to make a sandwich let alone build anything. So which of those megaprojects do you think should have been a mega-reject? Let me know down in the comments below and thanks for watching. (gentle music)'"
      ]
     },
     "execution_count": 3,
     "metadata": {},
     "output_type": "execute_result"
    }
   ],
   "source": [
    "# takes a video id and returns the english transcript of the video\n",
    "def get_transcript(video_id):\n",
    "    try:\n",
    "        # get the transcript\n",
    "        transcript = YouTubeTranscriptApi.get_transcript(video_id, languages=['en'])\n",
    "\n",
    "        # join all the text in the transcript into one string\n",
    "        transcript = \" \".join([entry['text'] for entry in transcript])\n",
    "\n",
    "        # remove backslashes and line breaks\n",
    "        transcript = re.sub(r'\\n', ' ', transcript)  # Replace line breaks with space\n",
    "        transcript = re.sub(r'\\\\', '', transcript)  # Remove backslashes\n",
    "\n",
    "        return transcript\n",
    "    except Exception as e:\n",
    "        return f\"An error occurred: {e}\"\n",
    "\n",
    "get_transcript(video_id)"
   ]
  },
  {
   "cell_type": "code",
   "execution_count": 4,
   "metadata": {},
   "outputs": [
    {
     "data": {
      "text/plain": [
       "'So if you go to the stock market and look at the price of say a favourite company’s share. So what you would observe is the following. So if the horizontal axis is the time axis and if this is the price axis it tells you what is the price then you will see starting from a certain time price  you will see some zigzagging motions like this. So you observe it up to time T and you observe this zigzagging motion. This is of course random. Nobody knows what is the next price is. So if a particular scenario evolves, you have a particular path. This is called a sample path. So if another scenario evolves, if another scenario evolves there would be another path, for example it could be like this. The stock price is going down down down down and you are in a bad shape and then it again climbs up and again it falls down down down and again then again climbs up. So under a different scenario it has a different path. So it is sample path 1 it is sample path 2. So it is what type of scenario one evolves. Now of course you can ask me what is this term scenario that you are talking about, what is the meaning of this goddamn scenario? We will come to this very soon. But how do I model such zigzagging paths, what way to model it. Is there any mathematical way to say that us or can I construct the stochastic process whose sample paths are represented in this form? Let us do, to do that we need to study what is called Brownian motion. Brownian motion is a type of stochastic process which will help us to model stock prices at the end. So the whole term Brownian motion comes from the name of Robert Brown who first studied the movement of pollen grains in water and he found that they were having a zigzag haphazard movements. But it is not so immediately apparent that you can just start writing about this particular stochastic process. We need to have some more idea and built upon some simpler stochastic process. So we will begin by introducing what is called symmetric random works. Where there are only 2 possibilities you can either go up or down that is like a coin toss head or tail and that here I can have infinite such possibilities, infinite such sample paths and there are infinite possibilities also. Here also we will have infinite possibilities but generated out of only 2 possibilities. So symmetric random walk. So when you take a fair coin and then you keep on repeatedly tossing it. So it is a so this is a stochastic process which I will write in short form now as stochastic process generated by repeated tosses of a fair coin okay and if you look at it very carefully what I mean by this? So you start tossing the coin so repeatedly you are tossing omega 1 omega 2; so omega 1 is either head or tail; omega 2, omega 3, omega 4, 5 and so and so forth. Suppose you have here head, head, tail, tail, head, head, head, tail, tail, tail and it goes on. So this is one particular scenario that has evolved. You could have another scenario say omega bar which is consisting of say omega 1 bar, omega 2 bar, omega 3 bar, omega 4 bar, omega 5 bar, it could be something like this; tail, tail, head, head, head, tail, tail, tail, head, head, head and so on. So these 2 are different scenarios and these 2 each would generate 2 different sample paths. So how do we generate this symmetric random walk? So these are 2 different scenarios, 2 different scenarios. Now construct a random variable Xj which takes the value 1 if j is equal sorry if omega j is equal to head and takes the value -1 if omega j is equal to tail if tail appears and 1 if head appears. So now you define a stochastic process, define a new stochastic process Mk, k=0 to infinity or let us we can need not bother we can also fix it after some time. It could be some time capital say K is say 25 something here 25 or 30 whatever. But in general it is alright to take plus infinity just a sequence where M k is given as follows. Each of these M ks are calculated by starting from M 0 equal to 0. M k is equal to j is the sum from j from 1 to k to X j. So let us see what would happen if one particular scenario like this evolves. Let us see then what is the sample path of this. This symmetric random walk is also called a drunkards walk. So somebody has had a good drink and he has become drunk and if you look at his walk so a drunkard would walk like this if I am here so I start from here then I can just go like this and he goes like this just it is just or like this you know I am coming here and then I am going there something like this. So this sort of thing you will immediately observe as I start say checking out with this scenario. So here is my k and here is my M k value. Now the first one here has turned out to be head. So M0 is 0. Let me write -1, -2, -3 and so on -4 here 1 2 3 4 and so on and of course here also you have to have k values which is 1 or maybe 1 2 3 4 5 6 7 8 9 10 and so and so forth. So M0 is 0 this is 0 is 0. Now you toss a coin and you have head. Omega 1 is head so you go up by +1 because X j will take +1 because m1 is just X 1 so here is the value of M1 this is your M1 so you join the M0 and 1 by line so 0 is M0 and then you again had head so M2 is again 1. I am looking at this scenario M2 is you go by 1 so it is 1+1 now 2. So M2 is 2. So you join again by this line. But M 3 is tail so you will drop by 1 so it will be -1 so it will again drop back to the point 1. So this is your M2 and this is M3 and then omega 4 is again tail so it drops back to 0 again you -1 subtract. So this is your M4 0. Again then you have head for omega 5 say so here you have omega 6, omega 7, omega 8, omega 9, so for M4 you have tail you have come to 0 again then it goes up again for M it goes to plus 1 again. So this is your M5. Again, it goes up to 2 M6 but then you have tail again so M7 comes down to +1. Again, you have tail so M8 comes down to 0 because you are adding up everything. At every step you are going up or down. So you add up in this fashion and you move like this. So M8 I have here omega 8 it is again omega 9 is tail so again I have to go down so I go down by so from 0, I will have to go down by 1 so I will come to -1. So this will be your M9 and if suppose M10 omega 10 is head then it will again go up to 0 at the 10th place because you will again add 1 so it will become your M10. So what you see that the symmetric random walk is providing me some zigzag looking curve which might tempt you to think that possibly these 2 have some relationships. They are they do have some relationships and we will talk about that slightly down the talk. But let me tell you some more properties of this symmetric random walk M k. So here is my stochastic process and this stochastic process is called the symmetric random walk. Of course we are not mentioning but underlying we are always taking some probability space and all of those things. So now we will these random this particular random process of stochastic process has independent increments. What do I mean by the fact that they have independent increments? What I mean is the following. So if you have you take certain numbers sometime say some K m then you have the following. You have M k1 that is once you consider non-overlapping intervals then this difference is independent because they depend on independent coin tosses because coin tosses are independent when the coin tossed at the second level really does not the second outcome does not really depend on the first outcome right when you do a repeated coin toss sorry M k2 - M k1,…, M k m- M k m-1. So these random variables are independent. All of these random variables these form a set of independent random variables. So that is once this happens this is when we say that it has independent increments and this actually has independent increment. These are independent because their difference which really does not depend on the coin tosses here does not depend on the coin tosses here and here and so you have independent increments. So this change that you see here does not depend on the change that you see in this interval or the change that you see in this interval right. So you can still observe that it is like a drunkard walk so drunkard walks like this goes down goes up. In George Gamow’s famous book One, Two, Three Infinity this has been described in a very very nice way. How do you, see here, my success probability this occurs with probability half and this also occurs with probability half so if you observe that exponential of X j sorry expectation of X j is 0 because this is one into half plus minus one into half. Variance of X j so what is variance of X j exponential X minus X j whole square which is 0 so it is 1 into half plus minus 1 minus 0 whole square plus 1 into half which is 1. Once you have this information this is true for all j. It is immediate that exponential M of k i plus 1 minus M of k i is 0 and the variance of M of k i plus 1 minus M of k i is equal to I leave it to you to calculate these stuffs. Our second property about this random walk is to show that this is also a Martingale. You see Martingale thing comes up. So symmetric random walk is a discrete Martingale. So you can easily prove that it is a Martingale. So you take any k strictly less than l and look at the expectation of M l conditioned on the filtration, the Sigma-algebra F k which is the part of the filtration okay. So you can write this as  M l minus M k plus M k. So these can be summed up just like expectation can be some conditional expectation this random variable can be decomposed into 2 parts which you can actually prove which will be a part of your exercise but we are just using this fact here so, anyway I should rub the board a bit. Now let us look at the first part. Since l is strictly bigger than k this increment M l minus M k is independent of F k. F k does not have the information of anything which is beyond the time k. So here by one of our rules for conditional expectation this is nothing but M l minus M k and here at time k everything about M k is known. So F k contains all information about M k. So the first law was taking out what is known, I can write this M k as M k dot 1 where 1 is the constant random variable 1. So whatever be the scenario it will just give you the value 1. So I can write this as M k so I will write this as M k dot 1 so I can take out what is known 1 dot F k. Of course, 1 is a constant random variable. It does not really depend on is independent of F k so it will be E of 1 which is a constant which will be just 1. So everything will be 1 so the sum of the probabilities will sum up to 1. So the expectation will be just the number. So this again is 0 which we already know plus M k into 1 which is M k and so this shows that M l is a this symmetric random walk this thing forms a discrete Martingale. Of course, F k is M k has to be adapted to this filtration that is the basic definition of Martingale. There is another notion which crops up in the study of these sort of processes is called the quadratic variation. So you essentially look at path by path. You look at how much the random variable values are varying between one end of the path to other end of the path that is between k1 and k2 say how much it is varying but do not take just the sum of those variations they might just be 0 so you have would not get any information but take the square of the variation. It is like a mean square error type thing so we again take here and introduce the notion of a quadratic variation. So the quadratic variation is expressed in the following way. M, M k is defined as summation j equal to 1 to k, M j minus M j minus 1 whole square is equal to and this if you look M j minus M j minus 1 whole square this value is always 1. If you sum them up what will be left here, X j would be left here, the X j. If you take the difference between M j and M j minus 1 you will have the value X j left. X j is either plus 1 or minus 1 so the squaring will always give you 1. So this expression of the square errors basically or the square changes around every path of a given sample I can take the changes but whatever be the path independent of the path it turns out to be k. If you do up to the kth level it turns out to be the k independent of the path that you have taken which is very very interesting. It does not happen for suppose you want to compute the variance  so M, M k is actually variance of M of k think about it how it is possible. But you see to compute this I really do not need to bother about the path but to take variance of M k we are essentially averaging over all the paths. So this is a difference. Now how do I can I do something with this process. Can I increase the jiggling of this process a bit this symmetric random walk a bit and generate some sort of an approximation of a Brownian motion. Generate this sort of zigzagging that we had just seen in the beginning when I had drawn the picture of the stock price that this sort of zigzagging can we generate this sort of zigzagging this sort of zigzagging can be generated by using the symmetric random walk and that leads to what is called a scaled symmetric random walk. We will not go too much of details into it because that might you know take you off track and you might feel a little bit of discomfort for those who are not so very comfortable with very complicated analysis. So what we are going to now show by this scaled random walk is that  what we are going to show by scaled random walk is that we can construct an nth level approximation for the Brownian motion. Let us construct an nth level approximation. So if you are zigzagging by say +1 and -1, I might zigzag by 1 by 10th and minus 1 by 10th. So I will decrease my zigzagging steps but increases my time size right so we construct the scaled symmetric random walk which is the nth level approximation of a Brownian motion. So all these are stochastic processes so this is a discrete stochastic process from which I am trying to go to a continuous stochastic process. I define it like this. You see if I do not have nt to be an integer I cannot define this. So here my t is a t say t between t starts from 0 and say it is up to t or even t goes to infinity so basically for me here this t is just greater than equal to 0. So using the discrete thing I am trying to construct a continuous stochastic process but I have to be aware that if I really want to use it so at the nth level approximation this m and t this nt has to be integer if I want to actually compute this. Otherwise m is a discrete thing it is computed only at integer points you cannot compute it at non integer points. So what happens if it is not computed, if nt does not turn out to be an integer? So basically what you are considering for n very large at various time points nt would be an integer and you are actually computing out of nt. So if nt is not an integer take the t for which is not an integer then take some u and take some s which is nearest to t such that ns and nu. These are integers and then compute the value of Wnu and Wns and then make an interpolation linear interpolation to approximate the value of Wnt and that is how you can actually do you can generate it in a machine by taking a sample so you can take a sample of say so you can do the coin tossing 400 times with one by tenth  you can toss the coin 400 times with probability of half of going you go one by tenth if it is h and you go minus one by tenth if it is tail. So you decrease your movement so you actually increase the zigzag by decreasing the movement and at every time you have to observe that your Mnt nt has to be an integer. Once you do that you will find all the properties that you had for here is in here provided that this M n into t is an integer. So you first do it only for n into t is a integer. Whatever is left you do the interpolation and you will see you will start getting a zigzagging curve much zigzagged than the symmetric random walk itself. Actually it can be shown that as n tends to infinity as n tends to infinity this W nt converges this random variable converges almost surely sorry not almost surely I made a mistake converges in distribution rather converges in distribution. Okay these are terms which I have not mentioned. Just forget them for a while, converges. In some sense W nt as n becomes infinity. This this stochastic processes gets changed into what is called a Brownian motion. So this is what we are going to talk about in the next class. So tomorrow we are going to study the properties of Brownian motion for the next 2 classes. So tomorrow’s class would be the last for the second week of the course. In the third week we continue our discussion on Brownian motion and then go to understand stochastic integrals or Ito integrals and doing Ito calculus which is the foundation of any financial mathematics that you do. Thank you very much.'"
      ]
     },
     "execution_count": 4,
     "metadata": {},
     "output_type": "execute_result"
    }
   ],
   "source": [
    "# %%timeit\n",
    "get_transcript(\"4-Tas6Uw_OQ\")"
   ]
  },
  {
   "cell_type": "code",
   "execution_count": 16,
   "metadata": {},
   "outputs": [],
   "source": [
    "# youtube api endpoint\n",
    "endpoint = \"https://www.googleapis.com/youtube/v3/search\"\n",
    "\n",
    "# question asked by the user\n",
    "user_query = \"brownian motion\"\n",
    "\n",
    "# parameters for the endpoint based on documentation https://developers.google.com/youtube/v3/docs/search/list\n",
    "params = {\n",
    "    \"q\": user_query,\n",
    "    \"type\": \"video\",\n",
    "    \"part\": \"snippet\",\n",
    "    \"maxResults\": 3,\n",
    "    \"key\": os.getenv(\"YOUTUBE_API_KEY\"),\n",
    "    \"videoCaption\": \"closedCaption\" # only return videos with closed captions\n",
    "}\n",
    "\n",
    "# send a request to the endpoint\n",
    "response = requests.get(endpoint, params=params)"
   ]
  },
  {
   "cell_type": "code",
   "execution_count": 18,
   "metadata": {},
   "outputs": [
    {
     "name": "stdout",
     "output_type": "stream",
     "text": [
      "Total time: 9.441158056259155 seconds\n"
     ]
    }
   ],
   "source": [
    "import time\n",
    "\n",
    "# Get the start time\n",
    "start_time = time.time()\n",
    "\n",
    "# Check if the request was successful\n",
    "if response.status_code == 200:\n",
    "    # Parse and print the JSON response\n",
    "    data = response.json()\n",
    "\n",
    "    # Create a list to store video information\n",
    "    videos = []\n",
    "\n",
    "    # Extract relevant data from the response\n",
    "    for item in data[\"items\"]:\n",
    "        video_id = item['id']['videoId']\n",
    "        title = item['snippet']['title']\n",
    "        channel = item['snippet']['channelTitle']\n",
    "        \n",
    "        videos.append([video_id, title, channel, user_query])\n",
    "\n",
    "    # Create a Pandas DataFrame from the list of videos\n",
    "    df = pd.DataFrame(videos, columns=[\"video_id\", \"title\", \"channel\", \"question\"])\n",
    "\n",
    "    # Get transcript for each video by applying the get_transcript(video_id) function\n",
    "    df[\"transcript\"] = df.apply(lambda row: get_transcript(row[\"video_id\"]), axis=1)\n",
    "\n",
    "    # Save the DataFrame as a CSV file\n",
    "    df.to_csv(\"videos.csv\")\n",
    "else:\n",
    "    print(f\"Request failed with status code {response.status_code}\")\n",
    "    print(response.text)\n",
    "\n",
    "# Get the end time\n",
    "end_time = time.time()\n",
    "\n",
    "# Print the total time\n",
    "print(f\"Total time: {end_time - start_time} seconds\")"
   ]
  },
  {
   "cell_type": "code",
   "execution_count": 19,
   "metadata": {},
   "outputs": [
    {
     "data": {
      "text/plain": [
       "Index(['video_id', 'title', 'channel', 'question', 'transcript'], dtype='object')"
      ]
     },
     "execution_count": 19,
     "metadata": {},
     "output_type": "execute_result"
    }
   ],
   "source": [
    "df.columns"
   ]
  },
  {
   "cell_type": "code",
   "execution_count": 9,
   "metadata": {},
   "outputs": [],
   "source": [
    "import mindsdb_sdk\n",
    "\n",
    "# connect to mindsdb server\n",
    "server = mindsdb_sdk.connect(\n",
    "    login = os.getenv('MINDSDB_USERNAME'),\n",
    "    password = os.getenv('MINDSDB_PASSWORD'),\n",
    ")"
   ]
  },
  {
   "cell_type": "code",
   "execution_count": 10,
   "metadata": {},
   "outputs": [],
   "source": [
    "# get default mindsdb project\n",
    "project = server.get_project()"
   ]
  },
  {
   "cell_type": "code",
   "execution_count": 11,
   "metadata": {},
   "outputs": [
    {
     "data": {
      "text/html": [
       "<div>\n",
       "<style scoped>\n",
       "    .dataframe tbody tr th:only-of-type {\n",
       "        vertical-align: middle;\n",
       "    }\n",
       "\n",
       "    .dataframe tbody tr th {\n",
       "        vertical-align: top;\n",
       "    }\n",
       "\n",
       "    .dataframe thead th {\n",
       "        text-align: right;\n",
       "    }\n",
       "</style>\n",
       "<table border=\"1\" class=\"dataframe\">\n",
       "  <thead>\n",
       "    <tr style=\"text-align: right;\">\n",
       "      <th></th>\n",
       "      <th>Tables_in_mindsdb</th>\n",
       "    </tr>\n",
       "  </thead>\n",
       "  <tbody>\n",
       "    <tr>\n",
       "      <th>0</th>\n",
       "      <td>models</td>\n",
       "    </tr>\n",
       "    <tr>\n",
       "      <th>1</th>\n",
       "      <td>models_versions</td>\n",
       "    </tr>\n",
       "    <tr>\n",
       "      <th>2</th>\n",
       "      <td>jobs</td>\n",
       "    </tr>\n",
       "    <tr>\n",
       "      <th>3</th>\n",
       "      <td>jobs_history</td>\n",
       "    </tr>\n",
       "    <tr>\n",
       "      <th>4</th>\n",
       "      <td>mdb_triggers</td>\n",
       "    </tr>\n",
       "    <tr>\n",
       "      <th>5</th>\n",
       "      <td>chatbots</td>\n",
       "    </tr>\n",
       "    <tr>\n",
       "      <th>6</th>\n",
       "      <td>sentiment_classifier</td>\n",
       "    </tr>\n",
       "    <tr>\n",
       "      <th>7</th>\n",
       "      <td>summarizer_10_20</td>\n",
       "    </tr>\n",
       "  </tbody>\n",
       "</table>\n",
       "</div>"
      ],
      "text/plain": [
       "      Tables_in_mindsdb\n",
       "0                models\n",
       "1       models_versions\n",
       "2                  jobs\n",
       "3          jobs_history\n",
       "4          mdb_triggers\n",
       "5              chatbots\n",
       "6  sentiment_classifier\n",
       "7      summarizer_10_20"
      ]
     },
     "execution_count": 11,
     "metadata": {},
     "output_type": "execute_result"
    }
   ],
   "source": [
    "# run queries on models, tables and views stored in a project\n",
    "query = project.query('SHOW TABLES;')\n",
    "query.fetch()"
   ]
  },
  {
   "cell_type": "code",
   "execution_count": 20,
   "metadata": {},
   "outputs": [
    {
     "data": {
      "text/plain": [
       "Table(video)"
      ]
     },
     "execution_count": 20,
     "metadata": {},
     "output_type": "execute_result"
    }
   ],
   "source": [
    "# create a new table to store the videos\n",
    "files_db = server.get_database('files')\n",
    "\n",
    "# remove the table if it already exists\n",
    "files_db.drop_table('video')\n",
    "\n",
    "# create a new table\n",
    "files_db.create_table('video', df)"
   ]
  },
  {
   "cell_type": "code",
   "execution_count": 22,
   "metadata": {},
   "outputs": [
    {
     "data": {
      "text/plain": [
       "[Model(sentiment_classifier, status=complete),\n",
       " Model(summarizer_10_20, status=complete),\n",
       " Model(youtube_video_recommender, status=error)]"
      ]
     },
     "execution_count": 22,
     "metadata": {},
     "output_type": "execute_result"
    }
   ],
   "source": [
    "# list all models\n",
    "project.list_models()"
   ]
  },
  {
   "cell_type": "code",
   "execution_count": null,
   "metadata": {},
   "outputs": [],
   "source": [
    "# CREATE MODEL youtube_video_recommender\n",
    "# PREDICT recommendation_score\n",
    "# USING\n",
    "#     engine = 'openai_engine',\n",
    "#     prompt_template = 'give an integer for the relevancy score for how well the transcipt text:{{transcript}} answers the question text:{{question}}. the higher the integer, the higher the relevancy of the transcript in answering the question';\n",
    "\n",
    "# drop model youtube_video_recommender"
   ]
  },
  {
   "cell_type": "code",
   "execution_count": null,
   "metadata": {},
   "outputs": [],
   "source": [
    "project.query('SHOW TABLES;')"
   ]
  }
 ],
 "metadata": {
  "kernelspec": {
   "display_name": ".venv",
   "language": "python",
   "name": "python3"
  },
  "language_info": {
   "codemirror_mode": {
    "name": "ipython",
    "version": 3
   },
   "file_extension": ".py",
   "mimetype": "text/x-python",
   "name": "python",
   "nbconvert_exporter": "python",
   "pygments_lexer": "ipython3",
   "version": "3.11.6"
  }
 },
 "nbformat": 4,
 "nbformat_minor": 2
}
